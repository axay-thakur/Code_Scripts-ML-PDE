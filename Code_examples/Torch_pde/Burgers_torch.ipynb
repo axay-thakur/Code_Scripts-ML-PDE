{
 "cells": [
  {
   "cell_type": "code",
   "execution_count": 2,
   "metadata": {},
   "outputs": [
    {
     "name": "stdout",
     "output_type": "stream",
     "text": [
      "/home/athakur/SpectralMethod\n"
     ]
    }
   ],
   "source": [
    "import torch.nn.functional as F\n",
    "%cd ~/SpectralMethod\n",
    "from timeit import default_timer\n",
    "import torch\n",
    "import numpy as np\n",
    "import scipy.io\n",
    "import h5py\n",
    "import torch.nn as nn\n",
    "import os\n",
    "import pdb\n",
    "import matplotlib.pyplot as plt\n",
    "import operator\n",
    "from functools import reduce\n",
    "from functools import partial\n",
    "from utils import *\n",
    "from equations import *\n",
    "from time_steppers import *\n",
    "#os.environ[\"CUDA_VISIBLE_DEVICES\"]= \"2\""
   ]
  },
  {
   "cell_type": "code",
   "execution_count": null,
   "metadata": {},
   "outputs": [],
   "source": [
    "np.random.seed(42)\n",
    "L = 1\n",
    "N = 512\n",
    "dx = L/N\n",
    "xgrid = np.arange(0,L,dx)"
   ]
  },
  {
   "cell_type": "code",
   "execution_count": null,
   "metadata": {},
   "outputs": [],
   "source": [
    "realizations = 1000\n",
    "order =4\n",
    "twopik = (2j * torch.pi * torch.fft.rfftfreq(xgrid.shape[0], d=(xgrid[1]-xgrid[0]))).reshape(1,-1).cuda()\n",
    "time_end = 1\n",
    "dt = 0.0001\n",
    "nsteps = int(time_end/dt)"
   ]
  },
  {
   "cell_type": "code",
   "execution_count": null,
   "metadata": {},
   "outputs": [],
   "source": [
    "u_init = np.zeros((realizations,N))\n",
    "for i in range(realizations):\n",
    "    u_init[i,:] = initcond(order,xgrid)\n",
    "u_init = torch.tensor(u_init).cuda()"
   ]
  },
  {
   "cell_type": "code",
   "execution_count": null,
   "metadata": {},
   "outputs": [],
   "source": [
    "with torch.no_grad():\n",
    "    u = u_init\n",
    "    for i in range(nsteps+1):\n",
    "        t = dt*i\n",
    "        u = rk4singlestep(rhsburger,dt,t,u,visc,twopik)"
   ]
  }
 ],
 "metadata": {
  "kernelspec": {
   "display_name": "jaxcfd",
   "language": "python",
   "name": "python3"
  },
  "language_info": {
   "codemirror_mode": {
    "name": "ipython",
    "version": 3
   },
   "file_extension": ".py",
   "mimetype": "text/x-python",
   "name": "python",
   "nbconvert_exporter": "python",
   "pygments_lexer": "ipython3",
   "version": "3.10.9"
  },
  "orig_nbformat": 4,
  "vscode": {
   "interpreter": {
    "hash": "336938e9ebe719af50e803c16a2c7750d6731f665a93a412b65a435a80430613"
   }
  }
 },
 "nbformat": 4,
 "nbformat_minor": 2
}
